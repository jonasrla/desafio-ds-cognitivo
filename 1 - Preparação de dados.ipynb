{
 "cells": [
  {
   "cell_type": "code",
   "execution_count": 1,
   "id": "insured-northern",
   "metadata": {},
   "outputs": [],
   "source": [
    "import pandas as pd\n",
    "from random import sample\n",
    "from datetime import datetime\n",
    "from ast import literal_eval\n",
    "from math import nan\n",
    "from json import loads\n",
    "\n",
    "pd.options.display.max_columns = None"
   ]
  },
  {
   "cell_type": "code",
   "execution_count": 2,
   "id": "tough-exhibit",
   "metadata": {},
   "outputs": [],
   "source": [
    "df_calendar = pd.read_csv('data/raw/calendar.csv.gz')\n",
    "df_listings = pd.read_csv('data/raw/listings.csv.gz')\n",
    "df_reviews = pd.read_csv('data/raw/reviews.csv.gz')"
   ]
  },
  {
   "cell_type": "code",
   "execution_count": 3,
   "id": "colored-productivity",
   "metadata": {},
   "outputs": [],
   "source": [
    "with open('data/mapeamento_bairro_subprefeitura.json', 'r') as f:\n",
    "    map_bairro_subpref = loads(f.read())"
   ]
  },
  {
   "cell_type": "markdown",
   "id": "temporal-algeria",
   "metadata": {},
   "source": [
    "## Define funções de limpeza"
   ]
  },
  {
   "cell_type": "code",
   "execution_count": 4,
   "id": "preliminary-theory",
   "metadata": {},
   "outputs": [],
   "source": [
    "def parse_money(s):\n",
    "    return float(s.replace('$', '').replace(',', ''))"
   ]
  },
  {
   "cell_type": "code",
   "execution_count": 5,
   "id": "stupid-reference",
   "metadata": {},
   "outputs": [],
   "source": [
    "def parse_bool(s):\n",
    "    return s == 't' if s in {'t', 'f'} else None"
   ]
  },
  {
   "cell_type": "code",
   "execution_count": 6,
   "id": "innovative-vanilla",
   "metadata": {},
   "outputs": [],
   "source": [
    "def parse_date(s, form='%Y-%m-%d'):\n",
    "    if isinstance(s, str):\n",
    "        return datetime.strptime(s, form)\n",
    "    else:\n",
    "        return None"
   ]
  },
  {
   "cell_type": "code",
   "execution_count": 7,
   "id": "directed-presence",
   "metadata": {},
   "outputs": [],
   "source": [
    "def parse_perc(s):\n",
    "    return float(s.replace('%', ''))/100 if isinstance(s, str) else s"
   ]
  },
  {
   "cell_type": "code",
   "execution_count": 8,
   "id": "practical-cleveland",
   "metadata": {},
   "outputs": [],
   "source": [
    "def parse_list(df, col):\n",
    "    pool = set()\n",
    "    for s in df[col]:\n",
    "        if s != 'None':\n",
    "            pool = pool.union(literal_eval(s))\n",
    "    pool = [(f'{col}_{elem}', f\"'{elem}'\") for elem in sorted(pool)]\n",
    "    for dummie_col, elem in pool:\n",
    "        df[dummie_col] = df[col].str.contains(elem)\n",
    "    return df\n",
    "        "
   ]
  },
  {
   "cell_type": "code",
   "execution_count": 9,
   "id": "opponent-jonathan",
   "metadata": {},
   "outputs": [],
   "source": [
    "def tokenize(df, col):\n",
    "    null_marker = 'NaN'\n",
    "    options = sorted(df[col].fillna(null_marker).unique())\n",
    "    if null_marker in options:\n",
    "        options.remove(null_marker)\n",
    "    for opt in options:\n",
    "        df[f'{col}_{opt}'] = df[col] == opt\n",
    "    return df"
   ]
  },
  {
   "cell_type": "code",
   "execution_count": 10,
   "id": "complimentary-spiritual",
   "metadata": {},
   "outputs": [],
   "source": [
    "def parse_bathroom(df):\n",
    "    df['number_of_bathrooms'] = df.bathrooms_text.str.replace('\\D','').apply(lambda x: nan if x == '' else x).astype(float)\n",
    "    df['bathroom_description'] = df.bathrooms_text.str.replace('\\d','').str.replace('.', '').str.strip()\n",
    "    df = tokenize(df, 'bathroom_description')\n",
    "    return df"
   ]
  },
  {
   "cell_type": "code",
   "execution_count": 11,
   "id": "visible-finnish",
   "metadata": {},
   "outputs": [],
   "source": [
    "def separa_datasets(df, id_column, id_list):\n",
    "    return df[df[id_column].isin(id_list)].copy().reset_index(drop=True)"
   ]
  },
  {
   "cell_type": "markdown",
   "id": "changing-windows",
   "metadata": {},
   "source": [
    "## Limpa Datasets"
   ]
  },
  {
   "cell_type": "code",
   "execution_count": 12,
   "id": "exclusive-abuse",
   "metadata": {},
   "outputs": [],
   "source": [
    "df_calendar['price'] = df_calendar['price'].apply(parse_money)\n",
    "df_calendar['adjusted_price'] = df_calendar['adjusted_price'].apply(parse_money)\n",
    "df_calendar['available'] = df_calendar['available'].apply(parse_bool)\n",
    "df_calendar['date'] = df_calendar['date'].apply(parse_date)"
   ]
  },
  {
   "cell_type": "code",
   "execution_count": 13,
   "id": "moderate-providence",
   "metadata": {},
   "outputs": [],
   "source": [
    "df_reviews['date'] = df_reviews['date'].apply(parse_date)"
   ]
  },
  {
   "cell_type": "code",
   "execution_count": 14,
   "id": "developmental-newton",
   "metadata": {},
   "outputs": [
    {
     "name": "stderr",
     "output_type": "stream",
     "text": [
      "<ipython-input-10-fe88eb267c4c>:2: FutureWarning: The default value of regex will change from True to False in a future version.\n",
      "  df['number_of_bathrooms'] = df.bathrooms_text.str.replace('\\D','').apply(lambda x: nan if x == '' else x).astype(float)\n",
      "<ipython-input-10-fe88eb267c4c>:3: FutureWarning: The default value of regex will change from True to False in a future version.\n",
      "  df['bathroom_description'] = df.bathrooms_text.str.replace('\\d','').str.replace('.', '').str.strip()\n",
      "<ipython-input-10-fe88eb267c4c>:3: FutureWarning: The default value of regex will change from True to False in a future version. In addition, single character regular expressions will*not* be treated as literal strings when regex=True.\n",
      "  df['bathroom_description'] = df.bathrooms_text.str.replace('\\d','').str.replace('.', '').str.strip()\n",
      "/Users/Jonas/Library/Python/3.8/lib/python/site-packages/pandas/core/strings/accessor.py:101: UserWarning: This pattern has match groups. To actually get the groups, use str.extract.\n",
      "  return func(self, *args, **kwargs)\n"
     ]
    }
   ],
   "source": [
    "df_listings['last_scraped'] = df_listings['last_scraped'].apply(parse_date)\n",
    "df_listings['host_since'] = df_listings['host_since'].apply(parse_date)\n",
    "df_listings = tokenize(df_listings, 'host_response_time')\n",
    "df_listings['host_response_rate'] = df_listings['host_response_rate'].apply(parse_perc)\n",
    "df_listings['host_acceptance_rate'] = df_listings['host_acceptance_rate'].apply(parse_perc)\n",
    "df_listings['host_is_superhost'] = df_listings['host_is_superhost'].apply(parse_bool)\n",
    "df_listings = parse_list(df_listings, 'host_verifications')\n",
    "df_listings['host_has_profile_pic'] = df_listings['host_has_profile_pic'].apply(parse_bool)\n",
    "df_listings['host_identity_verified'] = df_listings['host_identity_verified'].apply(parse_bool)\n",
    "df_listings = tokenize(df_listings, 'neighbourhood_cleansed')\n",
    "df_listings = tokenize(df_listings, 'property_type')\n",
    "df_listings = tokenize(df_listings, 'room_type')\n",
    "df_listings = parse_bathroom(df_listings)\n",
    "df_listings = parse_list(df_listings, 'amenities')\n",
    "df_listings['price'] = df_listings['price'].apply(parse_money)\n",
    "df_listings['has_availability'] = df_listings['has_availability'].apply(parse_bool)\n",
    "df_listings['calendar_last_scraped'] = df_listings['calendar_last_scraped'].apply(parse_date)\n",
    "df_listings['first_review'] = df_listings['first_review'].apply(parse_date)\n",
    "df_listings['last_review'] = df_listings['last_review'].apply(parse_date)\n",
    "df_listings['instant_bookable'] = df_listings['instant_bookable'].apply(parse_bool)\n",
    "df_listings['subprefeitura'] = df_listings['neighbourhood_cleansed'].apply(lambda x: map_bairro_subpref[x])\n",
    "df_listings = tokenize(df_listings, 'subprefeitura')"
   ]
  },
  {
   "cell_type": "markdown",
   "id": "alternate-relevance",
   "metadata": {},
   "source": [
    "## Separa datasets\n",
    "\n",
    "Usaremos k-fold para selecionar metaparâmetros, então separarei 3000 anúncios para avaliar a qualidade do modelo final"
   ]
  },
  {
   "cell_type": "code",
   "execution_count": 15,
   "id": "returning-diana",
   "metadata": {},
   "outputs": [],
   "source": [
    "ids = list(df_listings.id)\n",
    "\n",
    "test_size = 3000\n",
    "test_index = sample(range(len(ids)), test_size)\n",
    "\n",
    "test_ids = {listing_id for index, listing_id in enumerate(ids) if index in test_index}\n",
    "training_ids = {listing_id for index, listing_id in enumerate(ids) if index not in test_index}"
   ]
  },
  {
   "cell_type": "code",
   "execution_count": 16,
   "id": "given-advantage",
   "metadata": {},
   "outputs": [],
   "source": [
    "test_listing      = separa_datasets(df_listings, 'id', test_ids)\n",
    "training_listing  = separa_datasets(df_listings, 'id', training_ids)\n",
    "\n",
    "test_calendar     = separa_datasets(df_calendar, 'listing_id', test_ids)\n",
    "training_calendar = separa_datasets(df_calendar, 'listing_id', training_ids)\n",
    "\n",
    "test_reviews      = separa_datasets(df_reviews, 'listing_id', test_ids)\n",
    "training_reviews  = separa_datasets(df_reviews, 'listing_id', training_ids)"
   ]
  },
  {
   "cell_type": "code",
   "execution_count": 17,
   "id": "vital-wagon",
   "metadata": {},
   "outputs": [],
   "source": [
    "test_listing.to_parquet('data/trusted/test/listing.parquet', index=False)\n",
    "training_listing.to_parquet('data/trusted/training/listing.parquet', index=False)\n",
    "\n",
    "test_calendar.to_parquet('data/trusted/test/calendar.parquet', index=False)\n",
    "training_calendar.to_parquet('data/trusted/training/calendar.parquet', index=False)\n",
    "\n",
    "test_reviews.to_parquet('data/trusted/test/reviews.parquet', index=False)\n",
    "training_reviews.to_parquet('data/trusted/training/reviews.parquet', index=False)"
   ]
  },
  {
   "cell_type": "code",
   "execution_count": null,
   "id": "genuine-document",
   "metadata": {},
   "outputs": [],
   "source": []
  }
 ],
 "metadata": {
  "kernelspec": {
   "display_name": "Python 3",
   "language": "python",
   "name": "python3"
  },
  "language_info": {
   "codemirror_mode": {
    "name": "ipython",
    "version": 3
   },
   "file_extension": ".py",
   "mimetype": "text/x-python",
   "name": "python",
   "nbconvert_exporter": "python",
   "pygments_lexer": "ipython3",
   "version": "3.8.2"
  }
 },
 "nbformat": 4,
 "nbformat_minor": 5
}
